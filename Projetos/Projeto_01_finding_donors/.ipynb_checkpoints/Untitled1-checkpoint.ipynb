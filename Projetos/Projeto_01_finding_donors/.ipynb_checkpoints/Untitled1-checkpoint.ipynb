{
 "cells": [
  {
   "cell_type": "code",
   "execution_count": 100,
   "metadata": {},
   "outputs": [],
   "source": [
    "from urllib2 import Request, urlopen, HTTPError\n",
    "import json\n",
    "import pandas as pd"
   ]
  },
  {
   "cell_type": "code",
   "execution_count": 115,
   "metadata": {},
   "outputs": [],
   "source": [
    "numero_animes = 1000"
   ]
  },
  {
   "cell_type": "code",
   "execution_count": 116,
   "metadata": {},
   "outputs": [],
   "source": [
    "lista_animes = [None]*numero_animes\n",
    "lista_erros = []\n",
    "numero_animes_for = numero_animes + 1"
   ]
  },
  {
   "cell_type": "code",
   "execution_count": 117,
   "metadata": {},
   "outputs": [],
   "source": [
    "for i in range(1, numero_animes_for):\n",
    "    url = 'https://api.jikan.moe/v3/anime/{}'.format(i)\n",
    "    request = Request(url)\n",
    "    \n",
    "    try:\n",
    "        response_body = urlopen(request).read().decode()\n",
    "        a=json.loads(response_body)\n",
    "    except HTTPError:\n",
    "        lista_erros.append(i)\n",
    "        continue\n",
    "\n",
    "    genres = a['genres']\n",
    "\n",
    "    lista_generos=[]\n",
    "    for item in genres:\n",
    "        lista_generos.append(item['name'])\n",
    "\n",
    "    lista_generos = '|'.join(lista_generos)\n",
    "\n",
    "    anime = {'Title': a['title'],'Title English': a['title_english'], 'Genres': lista_generos, 'Number of Episodes': a['episodes'], 'Score': a['score'], 'Rating': a['rating'], 'Synopsis': a['synopsis'], 'URL':a['url'], 'Image_URL': a['image_url']}\n",
    "    \n",
    "    lista_animes[i-1] = anime"
   ]
  },
  {
   "cell_type": "code",
   "execution_count": 118,
   "metadata": {},
   "outputs": [],
   "source": [
    "lista_animes = [anime for anime in lista_animes if anime is not None]"
   ]
  },
  {
   "cell_type": "code",
   "execution_count": 119,
   "metadata": {},
   "outputs": [],
   "source": [
    "DF = pd.DataFrame(lista_animes)"
   ]
  },
  {
   "cell_type": "code",
   "execution_count": 120,
   "metadata": {},
   "outputs": [
    {
     "data": {
      "text/html": [
       "<div>\n",
       "<style scoped>\n",
       "    .dataframe tbody tr th:only-of-type {\n",
       "        vertical-align: middle;\n",
       "    }\n",
       "\n",
       "    .dataframe tbody tr th {\n",
       "        vertical-align: top;\n",
       "    }\n",
       "\n",
       "    .dataframe thead th {\n",
       "        text-align: right;\n",
       "    }\n",
       "</style>\n",
       "<table border=\"1\" class=\"dataframe\">\n",
       "  <thead>\n",
       "    <tr style=\"text-align: right;\">\n",
       "      <th></th>\n",
       "      <th>Genres</th>\n",
       "      <th>Image_URL</th>\n",
       "      <th>Number of Episodes</th>\n",
       "      <th>Rating</th>\n",
       "      <th>Score</th>\n",
       "      <th>Synopsis</th>\n",
       "      <th>Title</th>\n",
       "      <th>Title English</th>\n",
       "      <th>URL</th>\n",
       "    </tr>\n",
       "  </thead>\n",
       "  <tbody>\n",
       "    <tr>\n",
       "      <th>0</th>\n",
       "      <td>Action|Adventure|Comedy|Drama|Sci-Fi|Space</td>\n",
       "      <td>https://cdn.myanimelist.net/images/anime/4/196...</td>\n",
       "      <td>26.0</td>\n",
       "      <td>R - 17+ (violence &amp; profanity)</td>\n",
       "      <td>8.81</td>\n",
       "      <td>In the year 2071, humanity has colonized sever...</td>\n",
       "      <td>Cowboy Bebop</td>\n",
       "      <td>Cowboy Bebop</td>\n",
       "      <td>https://myanimelist.net/anime/1/Cowboy_Bebop</td>\n",
       "    </tr>\n",
       "    <tr>\n",
       "      <th>1</th>\n",
       "      <td>Action|Drama|Mystery|Sci-Fi|Space</td>\n",
       "      <td>https://cdn.myanimelist.net/images/anime/1439/...</td>\n",
       "      <td>1.0</td>\n",
       "      <td>R - 17+ (violence &amp; profanity)</td>\n",
       "      <td>8.41</td>\n",
       "      <td>Another day, another bounty—such is the life o...</td>\n",
       "      <td>Cowboy Bebop: Tengoku no Tobira</td>\n",
       "      <td>Cowboy Bebop: The Movie</td>\n",
       "      <td>https://myanimelist.net/anime/5/Cowboy_Bebop__...</td>\n",
       "    </tr>\n",
       "    <tr>\n",
       "      <th>2</th>\n",
       "      <td>Action|Sci-Fi|Adventure|Comedy|Drama|Shounen</td>\n",
       "      <td>https://cdn.myanimelist.net/images/anime/7/203...</td>\n",
       "      <td>26.0</td>\n",
       "      <td>PG-13 - Teens 13 or older</td>\n",
       "      <td>8.30</td>\n",
       "      <td>Vash the Stampede is the man with a $$60,000,0...</td>\n",
       "      <td>Trigun</td>\n",
       "      <td>Trigun</td>\n",
       "      <td>https://myanimelist.net/anime/6/Trigun</td>\n",
       "    </tr>\n",
       "    <tr>\n",
       "      <th>3</th>\n",
       "      <td>Action|Magic|Police|Supernatural|Drama|Mystery</td>\n",
       "      <td>https://cdn.myanimelist.net/images/anime/1796/...</td>\n",
       "      <td>26.0</td>\n",
       "      <td>PG-13 - Teens 13 or older</td>\n",
       "      <td>7.33</td>\n",
       "      <td>Witches are individuals with special powers li...</td>\n",
       "      <td>Witch Hunter Robin</td>\n",
       "      <td>Witch Hunter Robin</td>\n",
       "      <td>https://myanimelist.net/anime/7/Witch_Hunter_R...</td>\n",
       "    </tr>\n",
       "    <tr>\n",
       "      <th>4</th>\n",
       "      <td>Adventure|Fantasy|Shounen|Supernatural</td>\n",
       "      <td>https://cdn.myanimelist.net/images/anime/7/215...</td>\n",
       "      <td>52.0</td>\n",
       "      <td>PG - Children</td>\n",
       "      <td>7.03</td>\n",
       "      <td>It is the dark century and the people are suff...</td>\n",
       "      <td>Bouken Ou Beet</td>\n",
       "      <td>Beet the Vandel Buster</td>\n",
       "      <td>https://myanimelist.net/anime/8/Bouken_Ou_Beet</td>\n",
       "    </tr>\n",
       "  </tbody>\n",
       "</table>\n",
       "</div>"
      ],
      "text/plain": [
       "                                           Genres  \\\n",
       "0      Action|Adventure|Comedy|Drama|Sci-Fi|Space   \n",
       "1               Action|Drama|Mystery|Sci-Fi|Space   \n",
       "2    Action|Sci-Fi|Adventure|Comedy|Drama|Shounen   \n",
       "3  Action|Magic|Police|Supernatural|Drama|Mystery   \n",
       "4          Adventure|Fantasy|Shounen|Supernatural   \n",
       "\n",
       "                                           Image_URL  Number of Episodes  \\\n",
       "0  https://cdn.myanimelist.net/images/anime/4/196...                26.0   \n",
       "1  https://cdn.myanimelist.net/images/anime/1439/...                 1.0   \n",
       "2  https://cdn.myanimelist.net/images/anime/7/203...                26.0   \n",
       "3  https://cdn.myanimelist.net/images/anime/1796/...                26.0   \n",
       "4  https://cdn.myanimelist.net/images/anime/7/215...                52.0   \n",
       "\n",
       "                           Rating  Score  \\\n",
       "0  R - 17+ (violence & profanity)   8.81   \n",
       "1  R - 17+ (violence & profanity)   8.41   \n",
       "2       PG-13 - Teens 13 or older   8.30   \n",
       "3       PG-13 - Teens 13 or older   7.33   \n",
       "4                   PG - Children   7.03   \n",
       "\n",
       "                                            Synopsis  \\\n",
       "0  In the year 2071, humanity has colonized sever...   \n",
       "1  Another day, another bounty—such is the life o...   \n",
       "2  Vash the Stampede is the man with a $$60,000,0...   \n",
       "3  Witches are individuals with special powers li...   \n",
       "4  It is the dark century and the people are suff...   \n",
       "\n",
       "                             Title            Title English  \\\n",
       "0                     Cowboy Bebop             Cowboy Bebop   \n",
       "1  Cowboy Bebop: Tengoku no Tobira  Cowboy Bebop: The Movie   \n",
       "2                           Trigun                   Trigun   \n",
       "3               Witch Hunter Robin       Witch Hunter Robin   \n",
       "4                   Bouken Ou Beet   Beet the Vandel Buster   \n",
       "\n",
       "                                                 URL  \n",
       "0       https://myanimelist.net/anime/1/Cowboy_Bebop  \n",
       "1  https://myanimelist.net/anime/5/Cowboy_Bebop__...  \n",
       "2             https://myanimelist.net/anime/6/Trigun  \n",
       "3  https://myanimelist.net/anime/7/Witch_Hunter_R...  \n",
       "4     https://myanimelist.net/anime/8/Bouken_Ou_Beet  "
      ]
     },
     "execution_count": 120,
     "metadata": {},
     "output_type": "execute_result"
    }
   ],
   "source": [
    "DF.head()"
   ]
  }
 ],
 "metadata": {
  "kernelspec": {
   "display_name": "Python 2",
   "language": "python",
   "name": "python2"
  },
  "language_info": {
   "codemirror_mode": {
    "name": "ipython",
    "version": 2
   },
   "file_extension": ".py",
   "mimetype": "text/x-python",
   "name": "python",
   "nbconvert_exporter": "python",
   "pygments_lexer": "ipython2",
   "version": "2.7.15"
  }
 },
 "nbformat": 4,
 "nbformat_minor": 2
}
